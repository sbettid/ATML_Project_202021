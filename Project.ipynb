{
  "nbformat": 4,
  "nbformat_minor": 0,
  "metadata": {
    "kernelspec": {
      "display_name": "Python 3",
      "language": "python",
      "name": "python3"
    },
    "language_info": {
      "codemirror_mode": {
        "name": "ipython",
        "version": 3
      },
      "file_extension": ".py",
      "mimetype": "text/x-python",
      "name": "python",
      "nbconvert_exporter": "python",
      "pygments_lexer": "ipython3",
      "version": "3.7.8"
    },
    "colab": {
      "name": "Project.ipynb",
      "provenance": []
    },
    "accelerator": "GPU"
  },
  "cells": [
    {
      "cell_type": "markdown",
      "metadata": {
        "id": "HRKp6MtZmhrZ"
      },
      "source": [
        "# Colab code"
      ]
    },
    {
      "cell_type": "code",
      "metadata": {
        "id": "EORQ1L3-puDP",
        "outputId": "d3d73c0c-f41d-4b1b-c8d9-2513ad18250e",
        "colab": {
          "base_uri": "https://localhost:8080/"
        }
      },
      "source": [
        "if 'google.colab' in str(get_ipython()):\n",
        "  # connect to the datasets\n",
        "  from google.colab import drive\n",
        "  drive.mount('/content/drive', force_remount=True)\n",
        "  \n",
        "else:\n",
        "  closed_eyes_dataset_path = \"datasets/closed_eyes\""
      ],
      "execution_count": 2,
      "outputs": [
        {
          "output_type": "stream",
          "text": [
            "Mounted at /content/drive\n"
          ],
          "name": "stdout"
        }
      ]
    },
    {
      "cell_type": "markdown",
      "metadata": {
        "id": "voLgvYIGmuvh"
      },
      "source": [
        "# Oversampling\n",
        "\n"
      ]
    },
    {
      "cell_type": "code",
      "metadata": {
        "id": "FCmiE4r_xUhr",
        "outputId": "881a4c3c-30a2-4023-eb40-ecb1ca9d601d",
        "colab": {
          "base_uri": "https://localhost:8080/"
        }
      },
      "source": [
        "#!pip install Augmentor\n",
        "#import Augmentor\n",
        "#p = Augmentor.Pipeline(\"/content/drive/MyDrive/ATML_Project_202021/closed_eyes\")\n",
        "#p.rotate(probability=1, max_left_rotation=5, max_right_rotation=5)\n",
        "#p.flip_left_right(probability=0.5)\n",
        "#p.zoom_random(probability=0.5, percentage_area=0.8)\n",
        "#p.sample(1808, multi_threaded=True)"
      ],
      "execution_count": 5,
      "outputs": [
        {
          "output_type": "stream",
          "text": [
            "Initialised with 1192 image(s) found.\n",
            "Output directory set to /content/drive/MyDrive/ATML_Project_202021/closed_eyes/output."
          ],
          "name": "stdout"
        }
      ]
    }
  ]
}