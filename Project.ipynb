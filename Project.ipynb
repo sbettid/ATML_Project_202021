{
  "nbformat": 4,
  "nbformat_minor": 0,
  "metadata": {
    "kernelspec": {
      "display_name": "Python 3",
      "language": "python",
      "name": "python3"
    },
    "language_info": {
      "codemirror_mode": {
        "name": "ipython",
        "version": 3
      },
      "file_extension": ".py",
      "mimetype": "text/x-python",
      "name": "python",
      "nbconvert_exporter": "python",
      "pygments_lexer": "ipython3",
      "version": "3.7.8"
    },
    "colab": {
      "name": "Project.ipynb",
      "provenance": []
    }
  },
  "cells": [
    {
      "cell_type": "markdown",
      "metadata": {
        "id": "HRKp6MtZmhrZ"
      },
      "source": [
        "Ciao"
      ]
    },
    {
      "cell_type": "markdown",
      "metadata": {
        "id": "voLgvYIGmuvh"
      },
      "source": [
        "# Ciao Sbetti"
      ]
    },
    {
      "cell_type": "code",
      "metadata": {
        "id": "5IuWiIcUmw84"
      },
      "source": [
        ""
      ],
      "execution_count": null,
      "outputs": []
    }
  ]
}