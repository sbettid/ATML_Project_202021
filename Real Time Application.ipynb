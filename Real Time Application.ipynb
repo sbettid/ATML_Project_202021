{
 "cells": [
  {
   "cell_type": "markdown",
   "metadata": {},
   "source": [
    "# Real Time Application"
   ]
  },
  {
   "cell_type": "code",
   "execution_count": 11,
   "metadata": {},
   "outputs": [],
   "source": [
    "import tensorflow as tf\n",
    "from tensorflow import keras\n",
    "import cv2\n",
    "import csv\n",
    "import numpy as np"
   ]
  },
  {
   "cell_type": "code",
   "execution_count": 2,
   "metadata": {},
   "outputs": [],
   "source": [
    "model = keras.models.load_model('model.h5')"
   ]
  },
  {
   "cell_type": "code",
   "execution_count": 3,
   "metadata": {},
   "outputs": [],
   "source": [
    "img_test = cv2.imread(\"mrlEyes_2018_01/train/1/s0001_01843_0_0_1_0_0_01.png\")"
   ]
  },
  {
   "cell_type": "code",
   "execution_count": 22,
   "metadata": {},
   "outputs": [],
   "source": [
    "img_test = cv2.resize(img_test, (80,80), interpolation = cv2.INTER_AREA)"
   ]
  },
  {
   "cell_type": "code",
   "execution_count": 23,
   "metadata": {},
   "outputs": [],
   "source": [
    "img_test = img_test/255.0"
   ]
  },
  {
   "cell_type": "code",
   "execution_count": 24,
   "metadata": {},
   "outputs": [],
   "source": [
    "new_img = tf.data.Dataset.from_tensor_slices([img_test])"
   ]
  },
  {
   "cell_type": "code",
   "execution_count": 25,
   "metadata": {},
   "outputs": [
    {
     "data": {
      "text/plain": [
       "0.56163526"
      ]
     },
     "execution_count": 25,
     "metadata": {},
     "output_type": "execute_result"
    }
   ],
   "source": [
    "prediction = model.predict(new_img.batch(32))\n",
    "prediction.flatten()[0]"
   ]
  },
  {
   "cell_type": "code",
   "execution_count": 4,
   "metadata": {},
   "outputs": [],
   "source": [
    "xml_path = \"haarcascade_xml/\""
   ]
  },
  {
   "cell_type": "code",
   "execution_count": 8,
   "metadata": {},
   "outputs": [],
   "source": [
    "face_cascade = cv2.CascadeClassifier(xml_path + \"haarcascade_frontalface_default.xml\")\n",
    "right_eye_cascade = cv2.CascadeClassifier(xml_path + \"haarcascade_righteye_2splits.xml\")\n",
    "left_eye_cascade = cv2.CascadeClassifier(xml_path + \"haarcascade_lefteye_2splits.xml\")"
   ]
  },
  {
   "cell_type": "code",
   "execution_count": 9,
   "metadata": {},
   "outputs": [],
   "source": [
    "dim = (80,80)"
   ]
  },
  {
   "cell_type": "code",
   "execution_count": 24,
   "metadata": {},
   "outputs": [],
   "source": [
    "import time"
   ]
  },
  {
   "cell_type": "code",
   "execution_count": 38,
   "metadata": {},
   "outputs": [
    {
     "name": "stdout",
     "output_type": "stream",
     "text": [
      "Right: [[1.]]  Left: [[1.]]\n",
      "Right: [[1.]]  Left: [[1.]]\n",
      "Right: [[1.]]  Left: [[1.]]\n",
      "Right: [[0.08466896]]  Left: [[0.191288]]\n",
      "Right: [[0.31118047]]  Left: [[0.32016668]]\n",
      "Right: [[0.21771386]]  Left: [[0.12608802]]\n",
      "Right: [[0.0335758]]  Left: [[0.0906235]]\n",
      "Right: [[0.00704652]]  Left: [[1.]]\n",
      "Right: [[0.15202007]]  Left: [[0.99999225]]\n",
      "Right: [[0.23679826]]  Left: [[0.39145204]]\n",
      "Right: [[0.16074559]]  Left: [[1.]]\n",
      "Right: [[0.9242117]]  Left: [[0.00105694]]\n",
      "Right: [[0.31525284]]  Left: [[0.7551342]]\n",
      "Right: [[1.]]  Left: [[1.]]\n",
      "Right: [[1.]]  Left: [[1.]]\n",
      "Right: [[1.]]  Left: [[1.]]\n",
      "Right: [[1.]]  Left: [[1.]]\n",
      "Right: [[0.05654818]]  Left: [[0.39618546]]\n",
      "Right: [[0.00819734]]  Left: [[0.85923123]]\n",
      "Right: [[0.28949845]]  Left: [[0.9986826]]\n",
      "Right: [[0.89800835]]  Left: [[0.9820195]]\n",
      "Right: [[0.08646941]]  Left: [[0.5997515]]\n",
      "Right: [[0.2583447]]  Left: [[0.9998034]]\n",
      "Right: [[0.34543616]]  Left: [[0.05703646]]\n",
      "Right: [[0.8832901]]  Left: [[0.10451621]]\n",
      "Right: [[0.65868855]]  Left: [[0.3258615]]\n",
      "Right: [[0.825918]]  Left: [[0.99969757]]\n",
      "Right: [[0.23894078]]  Left: [[0.0306277]]\n",
      "Right: [[0.30207425]]  Left: [[0.2937096]]\n",
      "Right: [[0.21644005]]  Left: [[0.00214976]]\n",
      "Right: [[0.57003796]]  Left: [[1.]]\n",
      "Right: [[0.26320696]]  Left: [[0.9872844]]\n",
      "Right: [[0.31626007]]  Left: [[0.5931376]]\n",
      "Right: [[0.18980524]]  Left: [[0.99915755]]\n",
      "Right: [[0.3182307]]  Left: [[0.99998176]]\n",
      "Right: [[0.23918071]]  Left: [[1.]]\n",
      "Right: [[0.322011]]  Left: [[0.99998534]]\n",
      "Right: [[0.36633378]]  Left: [[0.7536206]]\n",
      "Right: [[0.90183914]]  Left: [[0.92282903]]\n",
      "Right: [[0.35396725]]  Left: [[0.82719004]]\n",
      "Right: [[0.9810959]]  Left: [[0.01615107]]\n",
      "Right: [[0.9595778]]  Left: [[0.12500262]]\n",
      "Right: [[0.8808247]]  Left: [[0.39895296]]\n",
      "Right: [[0.9912692]]  Left: [[0.95946527]]\n",
      "Right: [[0.8923285]]  Left: [[0.9347968]]\n",
      "Right: [[0.7404432]]  Left: [[0.989086]]\n",
      "Right: [[0.19990757]]  Left: [[0.99752533]]\n",
      "Right: [[0.4303187]]  Left: [[0.99993974]]\n",
      "Right: [[0.35607386]]  Left: [[0.9879323]]\n",
      "Right: [[0.8639618]]  Left: [[0.5578184]]\n",
      "Right: [[0.77128446]]  Left: [[0.7334038]]\n",
      "Right: [[0.7985951]]  Left: [[0.17165634]]\n",
      "Right: [[0.71722025]]  Left: [[0.37021428]]\n",
      "Right: [[0.75045127]]  Left: [[0.27568328]]\n",
      "Right: [[0.6796064]]  Left: [[0.4245692]]\n",
      "Right: [[0.6381782]]  Left: [[0.9879064]]\n",
      "Right: [[0.99708354]]  Left: [[0.25682336]]\n",
      "Right: [[0.9507747]]  Left: [[1.]]\n",
      "Right: [[1.]]  Left: [[1.]]\n",
      "Right: [[1.]]  Left: [[1.]]\n",
      "Right: [[1.]]  Left: [[1.]]\n",
      "Right: [[1.]]  Left: [[1.]]\n",
      "Right: [[1.]]  Left: [[1.]]\n",
      "Right: [[1.]]  Left: [[1.]]\n",
      "Right: [[6.524696e-07]]  Left: [[0.24018556]]\n",
      "Right: [[7.347052e-07]]  Left: [[0.96777934]]\n",
      "Right: [[1.9451494e-05]]  Left: [[0.84051067]]\n",
      "Right: [[0.9999582]]  Left: [[0.99679416]]\n",
      "Right: [[1.]]  Left: [[1.]]\n",
      "Right: [[1.]]  Left: [[1.]]\n",
      "Right: [[1.]]  Left: [[1.]]\n",
      "Right: [[0.07126358]]  Left: [[0.06095228]]\n",
      "Right: [[0.03916907]]  Left: [[0.19051087]]\n",
      "Right: [[0.3786408]]  Left: [[0.14725369]]\n",
      "Right: [[0.19766328]]  Left: [[0.10362145]]\n",
      "Right: [[0.16374877]]  Left: [[0.11868504]]\n",
      "Right: [[0.31803453]]  Left: [[0.00415787]]\n",
      "Pay attention!\n",
      "Right: [[0.48395687]]  Left: [[0.03181279]]\n",
      "Pay attention!\n",
      "Right: [[0.2461245]]  Left: [[0.05065075]]\n",
      "Pay attention!\n",
      "Right: [[0.17981133]]  Left: [[0.00174585]]\n",
      "Pay attention!\n",
      "Right: [[0.28643295]]  Left: [[0.00523466]]\n",
      "Pay attention!\n",
      "Right: [[0.27125973]]  Left: [[0.19401479]]\n",
      "Pay attention!\n",
      "Right: [[0.67105293]]  Left: [[0.15103486]]\n",
      "Right: [[0.18822458]]  Left: [[0.15755913]]\n",
      "Right: [[0.29992783]]  Left: [[0.11667284]]\n",
      "Right: [[0.2254371]]  Left: [[0.04417548]]\n",
      "Right: [[0.04563332]]  Left: [[0.00246644]]\n",
      "Right: [[0.43536612]]  Left: [[0.24284694]]\n",
      "Right: [[0.01388845]]  Left: [[0.24311945]]\n",
      "Pay attention!\n",
      "Right: [[1.]]  Left: [[1.]]\n",
      "Right: [[1.]]  Left: [[1.]]\n",
      "Right: [[1.]]  Left: [[1.]]\n",
      "Right: [[1.]]  Left: [[1.]]\n",
      "Right: [[1.]]  Left: [[1.]]\n",
      "Right: [[1.]]  Left: [[1.]]\n",
      "Right: [[1.]]  Left: [[1.]]\n",
      "Right: [[1.]]  Left: [[1.]]\n",
      "Right: [[1.]]  Left: [[1.]]\n",
      "Right: [[1.]]  Left: [[1.]]\n",
      "Right: [[0.99999976]]  Left: [[1.]]\n",
      "Right: [[0.00482798]]  Left: [[0.41393888]]\n"
     ]
    }
   ],
   "source": [
    "cap = cv2.VideoCapture(0)\n",
    "\n",
    "closed_count = 0\n",
    "frame_count = 0\n",
    "start = time.time()\n",
    "while(True):\n",
    "    # Capture frame-by-frame\n",
    "    ret, frame = cap.read()\n",
    "    frame_count += 1\n",
    "    \n",
    "    # Our operations on the frame come here\n",
    "    gray_single = cv2.cvtColor(frame, cv2.COLOR_BGR2GRAY)\n",
    "    \n",
    "    gray = np.zeros_like(frame)\n",
    "    gray[:,:,0] = gray_single\n",
    "    gray[:,:,1] = gray_single\n",
    "    gray[:,:,2] = gray_single\n",
    "    \n",
    "    faces = face_cascade.detectMultiScale(gray, 1.3, 5)\n",
    "\n",
    "    if len(faces) > 0:\n",
    "        (x,y,w,h) = faces[0]\n",
    "\n",
    "        #img = cv2.rectangle(img,(x,y),(x+w,y+h),(255,0,0),2)\n",
    "        half_int = int(np.ceil(w/2))\n",
    "\n",
    "        roi_gray_left = gray[y:y+h, x:x+half_int]\n",
    "        roi_gray_right = gray[y:y+h, x+half_int:x+w]\n",
    "\n",
    "        frame = cv2.rectangle(frame,(x,y),(x+half_int,y+h),(255,0,0),2) # left part\n",
    "        frame = cv2.rectangle(frame,(x+half_int,y),(x+w,y+h),(0,255,0),2) # right part\n",
    "\n",
    "        roi_color_left = frame[y:y+h, x:x+half_int]\n",
    "        roi_color_right = frame[y:y+h, x+half_int:x+w]\n",
    "\n",
    "        right_eyes = right_eye_cascade.detectMultiScale(roi_gray_left)\n",
    "        left_eyes = left_eye_cascade.detectMultiScale(roi_gray_right)\n",
    "\n",
    "        # check we have detected something on both sides\n",
    "        if len(right_eyes) > 0 and len(left_eyes) > 0:\n",
    "            (rx,ry,rw,rh) = right_eyes[0]\n",
    "            (lx,ly,lw,lh) = left_eyes[0]\n",
    "\n",
    "\n",
    "            cv2.rectangle(roi_color_left,(rx,ry),(rx+rw,ry+rh),(0,255,0),2)\n",
    "            cv2.rectangle(roi_color_right,(lx,ly),(lx+lw,ly+lh),(0,255,0),2)\n",
    "\n",
    "            #take right eye image\n",
    "            right_eye = roi_gray_left[ry:ry+rh, rx:rx+rw]\n",
    "            left_eye = roi_gray_right[ly:ly+lh, lx:lx+lw]\n",
    "            \n",
    "            #cv2.imshow('frame',left_eye)\n",
    "            \n",
    "            right_eye_resized = cv2.resize(right_eye, dim, interpolation = cv2.INTER_AREA)\n",
    "            left_eye_resized = cv2.resize(left_eye, dim, interpolation = cv2.INTER_AREA)\n",
    "            \n",
    "            right_eye_resized = right_eye_resized/255.0\n",
    "            left_eye_resized = left_eye_resized/255.0\n",
    "            \n",
    "            left_mirror = cv2.flip(left_eye_resized, 1)\n",
    "            #cv2.imshow('frame',left_mirror)\n",
    "            \n",
    "            right_final = tf.data.Dataset.from_tensor_slices([right_eye_resized])\n",
    "            left_final = tf.data.Dataset.from_tensor_slices([left_mirror])\n",
    "            \n",
    "            \n",
    "            right_open = model.predict(right_final.batch(32))\n",
    "            left_open = model.predict(left_final.batch(32))\n",
    "            \n",
    "            print(\"Right:\", right_open, \" Left:\", left_open)\n",
    "            \n",
    "            if right_open[0][0] < 0.5 and left_open[0][0] < 0.5:\n",
    "                closed_count += 1\n",
    "                cv2.putText(frame,'CLOSED', \n",
    "                    (500,460), \n",
    "                    cv2.FONT_HERSHEY_SIMPLEX, \n",
    "                    1,\n",
    "                    (0,0,255),\n",
    "                    2)\n",
    "\n",
    "                #print(\"Closed eyes found\")\n",
    "            else:\n",
    "                closed_count = 0\n",
    "                #print(\"Open eyes found\")\n",
    "            \n",
    "            if closed_count >= 6:\n",
    "                print(\"Pay attention!\") #chicchirichi\n",
    "            \n",
    "    # Display the resulting frame\n",
    "    cv2.imshow('frame',frame)\n",
    "    if cv2.waitKey(1) & 0xFF == ord('q'):\n",
    "        stop = time.time()\n",
    "        break\n",
    "        \n",
    "cap.release()\n",
    "cv2.waitKey(0)\n",
    "cv2.destroyAllWindows()"
   ]
  },
  {
   "cell_type": "code",
   "execution_count": 31,
   "metadata": {},
   "outputs": [
    {
     "name": "stdout",
     "output_type": "stream",
     "text": [
      "18.42406940460205\n"
     ]
    }
   ],
   "source": [
    "print(stop - start)"
   ]
  },
  {
   "cell_type": "code",
   "execution_count": 32,
   "metadata": {},
   "outputs": [
    {
     "data": {
      "text/plain": [
       "3.4194400062487587"
      ]
     },
     "execution_count": 32,
     "metadata": {},
     "output_type": "execute_result"
    }
   ],
   "source": [
    "frame_count/(stop-start)"
   ]
  }
 ],
 "metadata": {
  "kernelspec": {
   "display_name": "Python 3",
   "language": "python",
   "name": "python3"
  },
  "language_info": {
   "codemirror_mode": {
    "name": "ipython",
    "version": 3
   },
   "file_extension": ".py",
   "mimetype": "text/x-python",
   "name": "python",
   "nbconvert_exporter": "python",
   "pygments_lexer": "ipython3",
   "version": "3.7.8"
  }
 },
 "nbformat": 4,
 "nbformat_minor": 4
}
