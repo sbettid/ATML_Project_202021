{
 "cells": [
  {
   "cell_type": "code",
   "execution_count": 2,
   "metadata": {},
   "outputs": [],
   "source": [
    "import numpy as np\n",
    "import os\n",
    "import cv2\n",
    "import tensorflow as tf\n",
    "from tensorflow import keras\n",
    "from matplotlib import pyplot as plt\n",
    "from sklearn.model_selection import train_test_split\n",
    "import subprocess"
   ]
  },
  {
   "cell_type": "code",
   "execution_count": 7,
   "metadata": {},
   "outputs": [
    {
     "name": "stdout",
     "output_type": "stream",
     "text": [
      "Analysing folder:  mrlEyes_2018_01/s0001\n",
      "Analysing folder:  mrlEyes_2018_01/s0002\n",
      "Analysing folder:  mrlEyes_2018_01/s0003\n",
      "Analysing folder:  mrlEyes_2018_01/s0004\n",
      "Analysing folder:  mrlEyes_2018_01/s0005\n",
      "Analysing folder:  mrlEyes_2018_01/s0006\n",
      "Analysing folder:  mrlEyes_2018_01/s0007\n",
      "Analysing folder:  mrlEyes_2018_01/s0008\n",
      "Analysing folder:  mrlEyes_2018_01/s0009\n",
      "Analysing folder:  mrlEyes_2018_01/s0010\n",
      "Analysing folder:  mrlEyes_2018_01/s0011\n",
      "Analysing folder:  mrlEyes_2018_01/s0012\n",
      "Analysing folder:  mrlEyes_2018_01/s0013\n",
      "Analysing folder:  mrlEyes_2018_01/s0014\n",
      "Analysing folder:  mrlEyes_2018_01/s0015\n",
      "Analysing folder:  mrlEyes_2018_01/s0016\n",
      "Analysing folder:  mrlEyes_2018_01/s0017\n",
      "Analysing folder:  mrlEyes_2018_01/s0018\n",
      "Analysing folder:  mrlEyes_2018_01/s0019\n",
      "Analysing folder:  mrlEyes_2018_01/s0020\n",
      "Analysing folder:  mrlEyes_2018_01/s0021\n",
      "Analysing folder:  mrlEyes_2018_01/s0022\n",
      "Analysing folder:  mrlEyes_2018_01/s0023\n",
      "Analysing folder:  mrlEyes_2018_01/s0024\n",
      "Analysing folder:  mrlEyes_2018_01/s0025\n",
      "Analysing folder:  mrlEyes_2018_01/s0026\n",
      "Analysing folder:  mrlEyes_2018_01/s0027\n",
      "Analysing folder:  mrlEyes_2018_01/s0028\n",
      "Analysing folder:  mrlEyes_2018_01/s0029\n",
      "Analysing folder:  mrlEyes_2018_01/s0030\n",
      "Analysing folder:  mrlEyes_2018_01/s0031\n",
      "Analysing folder:  mrlEyes_2018_01/s0032\n",
      "Analysing folder:  mrlEyes_2018_01/s0033\n",
      "Analysing folder:  mrlEyes_2018_01/s0034\n",
      "Analysing folder:  mrlEyes_2018_01/s0035\n",
      "Analysing folder:  mrlEyes_2018_01/s0036\n",
      "Analysing folder:  mrlEyes_2018_01/s0037\n"
     ]
    }
   ],
   "source": [
    "images = []\n",
    "labels = []\n",
    "path = \"mrlEyes_2018_01/s00\"\n",
    "for i in range (1,38):\n",
    "    if i < 10:\n",
    "        curr_path = path + \"0\" + str(i)\n",
    "    else:\n",
    "        curr_path = path + str(i)\n",
    "    print(\"Analysing folder: \", curr_path)\n",
    "    for filename in os.listdir(curr_path):\n",
    "        img_path = curr_path + \"/\" + filename\n",
    "        lab = int(filename.split(\"_\")[4])\n",
    "        if lab == 0:\n",
    "            os.system('cp ' + img_path + ' mrlEyes_2018_01/0/' + filename)\n",
    "        else:\n",
    "            os.system('cp ' + img_path + ' mrlEyes_2018_01/1/' + filename)"
   ]
  },
  {
   "cell_type": "code",
   "execution_count": null,
   "metadata": {},
   "outputs": [],
   "source": []
  }
 ],
 "metadata": {
  "kernelspec": {
   "display_name": "Python 3",
   "language": "python",
   "name": "python3"
  },
  "language_info": {
   "codemirror_mode": {
    "name": "ipython",
    "version": 3
   },
   "file_extension": ".py",
   "mimetype": "text/x-python",
   "name": "python",
   "nbconvert_exporter": "python",
   "pygments_lexer": "ipython3",
   "version": "3.7.3"
  }
 },
 "nbformat": 4,
 "nbformat_minor": 4
}
