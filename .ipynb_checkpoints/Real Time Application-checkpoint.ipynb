{
 "cells": [
  {
   "cell_type": "markdown",
   "metadata": {},
   "source": [
    "# Real Time Application"
   ]
  },
  {
   "cell_type": "code",
   "execution_count": null,
   "metadata": {},
   "outputs": [],
   "source": [
    "import tensorflow as tf\n",
    "from tensorflow import keras\n",
    "import cv2\n",
    "import csv"
   ]
  },
  {
   "cell_type": "code",
   "execution_count": null,
   "metadata": {},
   "outputs": [],
   "source": [
    "model = keras.models.load_model('path/to/location')"
   ]
  },
  {
   "cell_type": "code",
   "execution_count": null,
   "metadata": {},
   "outputs": [],
   "source": [
    "model.predict(\"path/to/test/picture\")"
   ]
  },
  {
   "cell_type": "code",
   "execution_count": null,
   "metadata": {},
   "outputs": [],
   "source": [
    "xml_path = \"haarcascade_xml\""
   ]
  },
  {
   "cell_type": "code",
   "execution_count": null,
   "metadata": {},
   "outputs": [],
   "source": [
    "face_cascade = cv2.CascadeClassifier(xml_path + \"haarcascade_frontalface_alt.xml\")\n",
    "right_eye_cascade = cv2.CascadeClassifier(xml_path + \"haarcascade_righteye_2splits.xml\")\n",
    "left_eye_cascade = cv2.CascadeClassifier(xml_path + \"haarcascade_lefteye_2splits.xml\")"
   ]
  },
  {
   "cell_type": "code",
   "execution_count": null,
   "metadata": {},
   "outputs": [],
   "source": [
    "dim = (80,80)"
   ]
  },
  {
   "cell_type": "code",
   "execution_count": null,
   "metadata": {},
   "outputs": [],
   "source": [
    "cap = cv2.VideoCapture(0)"
   ]
  },
  {
   "cell_type": "code",
   "execution_count": null,
   "metadata": {},
   "outputs": [],
   "source": [
    "closed_count = 0"
   ]
  },
  {
   "cell_type": "code",
   "execution_count": null,
   "metadata": {},
   "outputs": [],
   "source": [
    "while(True):\n",
    "    # Capture frame-by-frame\n",
    "    ret, frame = cap.read()\n",
    "\n",
    "    # Our operations on the frame come here\n",
    "    gray = cv2.cvtColor(frame, cv2.COLOR_BGR2GRAY)\n",
    "\n",
    "    faces = face_cascade.detectMultiScale(gray, 1.3, 5)\n",
    "\n",
    "\n",
    "    if len(faces) > 0:\n",
    "        (x,y,w,h) = faces[0]\n",
    "\n",
    "        #img = cv2.rectangle(img,(x,y),(x+w,y+h),(255,0,0),2)\n",
    "        half_int = int(np.ceil(w/2))\n",
    "\n",
    "        roi_gray_left = gray[y:y+h, x:x+half_int]\n",
    "        roi_gray_right = gray[y:y+h, x+half_int:x+w]\n",
    "\n",
    "        frame = cv2.rectangle(frame,(x,y),(x+half_int,y+h),(255,0,0),2) # left part\n",
    "        frame = cv2.rectangle(frame,(x+half_int,y),(x+w,y+h),(0,255,0),2) # right part\n",
    "\n",
    "        roi_color_left = frame[y:y+h, x:x+half_int]\n",
    "        roi_color_right = frame[y:y+h, x+half_int:x+w]\n",
    "\n",
    "        right_eyes = right_eye_cascade.detectMultiScale(roi_gray_left)\n",
    "        left_eyes = left_eye_cascade.detectMultiScale(roi_gray_right)\n",
    "\n",
    "        # check we have detected something on both sides\n",
    "        if len(right_eyes) > 0 and len(left_eyes) > 0:\n",
    "            (rx,ry,rw,rh) = right_eyes[0]\n",
    "            (lx,ly,lw,lh) = left_eyes[0]\n",
    "\n",
    "\n",
    "            cv2.rectangle(roi_color_right,(rx,ry),(rx+rw,ry+rh),(0,255,0),2)\n",
    "            cv2.rectangle(roi_color_left,(lx,ly),(lx+lw,ly+lh),(0,255,0),2)\n",
    "\n",
    "            #take right eye image\n",
    "            right_eye = roi_gray_left[ry:ry+rh, rx:rx*rw]\n",
    "            left_eye = roi_gray_right[ly:ly+lh, lx:lx*lw]\n",
    "            \n",
    "            right_eye_resized = cv2.resize(right_eye, dim, interpolation = cv2.INTER_AREA)\n",
    "            left_eye_resized = cv2.resize(left_eye, dim, interpolation = cv2.INTER_AREA)\n",
    "            \n",
    "            right_open = model.predict(right_eye_resized)\n",
    "            left_open = model.predict(left_eye_resized)\n",
    "            \n",
    "            if right_open < 0.5 and left_open < 0.5:\n",
    "                closed_count += 1\n",
    "            else:\n",
    "                closed_count = 0\n",
    "            \n",
    "            if close_count > 30:\n",
    "                print(\"Pay attention!\") #chicchirichi\n",
    "            \n",
    "    # Display the resulting frame\n",
    "    cv2.imshow('frame',frame)\n",
    "    if cv2.waitKey(1) & 0xFF == ord('q'):\n",
    "        break\n",
    "        \n",
    "cap.release()\n",
    "cv2.waitKey(0)\n",
    "cv2.destroyAllWindows()"
   ]
  }
 ],
 "metadata": {
  "kernelspec": {
   "display_name": "Python 3",
   "language": "python",
   "name": "python3"
  },
  "language_info": {
   "codemirror_mode": {
    "name": "ipython",
    "version": 3
   },
   "file_extension": ".py",
   "mimetype": "text/x-python",
   "name": "python",
   "nbconvert_exporter": "python",
   "pygments_lexer": "ipython3",
   "version": "3.7.8"
  }
 },
 "nbformat": 4,
 "nbformat_minor": 4
}
